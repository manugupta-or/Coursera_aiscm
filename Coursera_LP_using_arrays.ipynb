{
  "nbformat": 4,
  "nbformat_minor": 0,
  "metadata": {
    "colab": {
      "provenance": []
    },
    "kernelspec": {
      "name": "python3",
      "display_name": "Python 3"
    },
    "language_info": {
      "name": "python"
    }
  },
  "cells": [
    {
      "cell_type": "code",
      "source": [
        "!pip install ortools"
      ],
      "metadata": {
        "colab": {
          "base_uri": "https://localhost:8080/"
        },
        "id": "4q2V30HPVSJf",
        "outputId": "03328759-a55b-47e1-b14a-817e7fa2e885"
      },
      "execution_count": null,
      "outputs": [
        {
          "output_type": "stream",
          "name": "stdout",
          "text": [
            "Requirement already satisfied: ortools in /usr/local/lib/python3.7/dist-packages (9.2.9972)\n",
            "Requirement already satisfied: absl-py>=0.13 in /usr/local/lib/python3.7/dist-packages (from ortools) (1.0.0)\n",
            "Requirement already satisfied: numpy>=1.13.3 in /usr/local/lib/python3.7/dist-packages (from ortools) (1.21.5)\n",
            "Requirement already satisfied: protobuf>=3.19.1 in /usr/local/lib/python3.7/dist-packages (from ortools) (3.19.4)\n",
            "Requirement already satisfied: six in /usr/local/lib/python3.7/dist-packages (from absl-py>=0.13->ortools) (1.15.0)\n"
          ]
        }
      ]
    },
    {
      "cell_type": "code",
      "execution_count": null,
      "metadata": {
        "colab": {
          "base_uri": "https://localhost:8080/"
        },
        "id": "h2NPjnHfUa9M",
        "outputId": "7ccbfb6c-e06b-45c6-ebe7-3ef9f7351b86"
      },
      "outputs": [
        {
          "output_type": "stream",
          "name": "stdout",
          "text": [
            "Number of variables = 5\n",
            "Number of constraints = 4\n",
            "Objective value = 262.6552567237163\n",
            "x[0]  =  8.451100244498777\n",
            "x[1]  =  22.84290953545232\n",
            "x[2]  =  0.0\n",
            "x[3]  =  0.0\n",
            "x[4]  =  3.459046454767721\n",
            "\n"
          ]
        }
      ],
      "source": [
        "#Method 1\n",
        "from ortools.linear_solver import pywraplp\n",
        "\n",
        "#Storing data\n",
        "constraint_coeffs = [\n",
        "    [5, 7, 9, 2, 1],\n",
        "    [18, 4, -9, 10, 12],\n",
        "    [4, 7, 3, 8, 5],\n",
        "    [5, 13, 16, 3, -7],\n",
        "]\n",
        "\n",
        "bounds = [250, 285, 211, 315]\n",
        "obj_coeffs = [7, 8, 2, 9, 6]\n",
        "num_vars = 5\n",
        "num_constraints = 4\n",
        "\n",
        "\n",
        "# Create the mip solver with the SCIP backend.\n",
        "solver = pywraplp.Solver.CreateSolver('GLOP')\n",
        "\n",
        "#Create the decision variables \n",
        "infinity = solver.infinity()\n",
        "x = {}\n",
        "for j in range(num_vars):\n",
        "    x[j] = solver.NumVar(0, infinity, 'x[%i]' % j)\n",
        "print('Number of variables =', solver.NumVariables())\n",
        "\n",
        "#Create the constraints\n",
        "for i in range(num_constraints):\n",
        "  constraint_expr = \\\n",
        "[constraint_coeffs[i][j] * x[j] for j in range(num_vars)]\n",
        "  solver.Add(sum(constraint_expr) <= bounds[i])\n",
        "print('Number of constraints =', solver.NumConstraints())\n",
        "\n",
        "\n",
        "#Define objective function\n",
        "obj_expr = [obj_coeffs[j] * x[j] for j in range(num_vars)]\n",
        "\n",
        "#call the solver\n",
        "solver.Maximize(solver.Sum(obj_expr))\n",
        "\n",
        "status = solver.Solve()\n",
        "\n",
        "#Print output\n",
        "if status == pywraplp.Solver.OPTIMAL:\n",
        "    print('Objective value =', solver.Objective().Value())\n",
        "    for j in range(num_vars):\n",
        "        print(x[j], ' = ', x[j].solution_value())\n",
        "    print()\n",
        "else:\n",
        "    print('The problem does not have an optimal solution.')\n",
        "\n",
        "\n",
        " "
      ]
    },
    {
      "cell_type": "code",
      "source": [
        "#Method 2\n",
        "from ortools.linear_solver import pywraplp\n",
        "\n",
        "\n",
        "def create_data_model():\n",
        "    \"\"\"Stores the data for the problem.\"\"\"\n",
        "    data = {}\n",
        "    data['constraint_coeffs'] = [\n",
        "        [5, 7, 9, 2, 1],\n",
        "        [18, 4, -9, 10, 12],\n",
        "        [4, 7, 3, 8, 5],\n",
        "        [5, 13, 16, 3, -7],\n",
        "    ]\n",
        "    data['bounds'] = [250, 285, 211, 315]\n",
        "    data['obj_coeffs'] = [7, 8, 2, 9, 6]\n",
        "    data['num_vars'] = 5\n",
        "    data['num_constraints'] = 4\n",
        "    return data\n",
        "\n",
        "\n",
        "\n",
        "def main():\n",
        "    data = create_data_model()\n",
        "    # Create the mip solver with the SCIP backend.\n",
        "    solver = pywraplp.Solver.CreateSolver('GLOP')\n",
        "\n",
        "    infinity = solver.infinity()\n",
        "    x = {}\n",
        "    for j in range(data['num_vars']):\n",
        "        x[j] = solver.NumVar(0, infinity, 'x[%i]' % j)\n",
        "    print('Number of variables =', solver.NumVariables())\n",
        "\n",
        "    for i in range(data['num_constraints']):\n",
        "     constraint_expr = \\\n",
        "    [data['constraint_coeffs'][i][j] * x[j] for j in range(data['num_vars'])]\n",
        "     solver.Add(sum(constraint_expr) <= data['bounds'][i])\n",
        "    print('Number of constraints =', solver.NumConstraints())\n",
        "    \n",
        "\n",
        "    obj_expr = [data['obj_coeffs'][j] * x[j] for j in range(data['num_vars'])]\n",
        "    solver.Maximize(solver.Sum(obj_expr))\n",
        "\n",
        "    status = solver.Solve()\n",
        "\n",
        "    if status == pywraplp.Solver.OPTIMAL:\n",
        "        print('Objective value =', solver.Objective().Value())\n",
        "        for j in range(data['num_vars']):\n",
        "            print(x[j], ' = ', x[j].solution_value())\n",
        "        print()\n",
        "    else:\n",
        "        print('The problem does not have an optimal solution.')\n",
        "\n",
        "\n",
        "if __name__ == '__main__':\n",
        "    main()\n",
        " "
      ],
      "metadata": {
        "colab": {
          "base_uri": "https://localhost:8080/"
        },
        "id": "v11M5Or-VMvt",
        "outputId": "dd16f412-9f59-4b9b-b52b-b5e9c1066977"
      },
      "execution_count": null,
      "outputs": [
        {
          "output_type": "stream",
          "name": "stdout",
          "text": [
            "Number of variables = 5\n",
            "Number of constraints = 4\n",
            "Objective value = 262.6552567237163\n",
            "x[0]  =  8.451100244498777\n",
            "x[1]  =  22.84290953545232\n",
            "x[2]  =  0.0\n",
            "x[3]  =  0.0\n",
            "x[4]  =  3.459046454767721\n",
            "\n"
          ]
        }
      ]
    }
  ]
}