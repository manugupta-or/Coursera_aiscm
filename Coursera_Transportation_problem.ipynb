{
  "nbformat": 4,
  "nbformat_minor": 0,
  "metadata": {
    "colab": {
      "provenance": []
    },
    "kernelspec": {
      "name": "python3",
      "display_name": "Python 3"
    },
    "language_info": {
      "name": "python"
    }
  },
  "cells": [
    {
      "cell_type": "code",
      "execution_count": null,
      "metadata": {
        "colab": {
          "base_uri": "https://localhost:8080/"
        },
        "id": "pgpp1ryTiwHe",
        "outputId": "5d9329a7-ee26-4e7d-e7a0-232a707fa9fd"
      },
      "outputs": [
        {
          "output_type": "stream",
          "name": "stdout",
          "text": [
            "Looking in indexes: https://pypi.org/simple, https://us-python.pkg.dev/colab-wheels/public/simple/\n",
            "Requirement already satisfied: ortools in /usr/local/lib/python3.7/dist-packages (9.4.1874)\n",
            "Requirement already satisfied: numpy>=1.13.3 in /usr/local/lib/python3.7/dist-packages (from ortools) (1.21.6)\n",
            "Requirement already satisfied: protobuf>=3.19.4 in /usr/local/lib/python3.7/dist-packages (from ortools) (4.21.9)\n",
            "Requirement already satisfied: absl-py>=0.13 in /usr/local/lib/python3.7/dist-packages (from ortools) (1.3.0)\n"
          ]
        }
      ],
      "source": [
        "!pip install ortools"
      ]
    },
    {
      "cell_type": "code",
      "source": [
        "from ortools.linear_solver import pywraplp\n",
        "\n",
        "\n",
        "\n",
        "# Data\n",
        "# Transportation cost (per unit) matrix  \n",
        "costs = [\n",
        "    [51, 62, 35, 45, 56],\n",
        "    [59, 68, 50, 39, 46],\n",
        "    [49, 56, 53, 51, 37],\n",
        "]\n",
        "\n",
        "num_suppliers = len(costs) #Three in this example\n",
        "num_markets = len(costs[0]) #Five in this example\n",
        "\n",
        "Supply = [15, 20, 15] # Supply capacity for supplier A, B and C\n",
        "Demand = [11, 12, 9, 10, 8] #Demand for market 1 to 5\n",
        "\n",
        "# Solver\n",
        "# Create the LP solver with the GLOP backend.\n",
        "solver = pywraplp.Solver.CreateSolver('GLOP')\n",
        "\n",
        "# Variables\n",
        "# x[i, j] is an array (continuous) decision variables, which will be\n",
        "# the number of items supplied from supplier i to market j.​\n",
        "x = {}\n",
        "for i in range(num_suppliers):\n",
        "    for j in range(num_markets):\n",
        "        x[i, j] =  solver.NumVar(0, solver.infinity(), f\"X[{i+1},{j+1}]\")\n",
        "        \n",
        "       \n",
        "       \n",
        "print('Number of variables =', solver.NumVariables()) \n",
        " #Total 15 decision variables\n",
        "\n",
        "\n",
        "\n",
        "# Constraints\n",
        "# Each supplier cannot supply will supply exactly equal to it's available capacity\n",
        "for i in range(num_suppliers):\n",
        "    solver.Add(solver.Sum([x[i, j] for j in range(num_markets)]) == Supply[i])\n",
        "\n",
        "# Each market will absorb items exactly equal to its the demand\n",
        "for j in range(num_markets):\n",
        "    solver.Add(solver.Sum([x[i, j] for i in range(num_suppliers)]) == Demand[j])\n",
        "\n",
        "# Objective function\n",
        "objective_terms = []\n",
        "for i in range(num_suppliers):\n",
        "    for j in range(num_markets):\n",
        "        objective_terms.append(costs[i][j] * x[i, j])\n",
        "\n",
        "# Call the solver        \n",
        "solver.Minimize(solver.Sum(objective_terms))\n",
        "\n",
        "\n",
        "\n",
        "# Solve and print output\n",
        "status = solver.Solve()\n",
        "if status == pywraplp.Solver.OPTIMAL:\n",
        "  print('optimal found')\n",
        "  print('Total cost = ', solver.Objective().Value(), '\\n')#printing total cost\n",
        "  for i in range(num_suppliers):\n",
        "      for j in range(num_markets):\n",
        "          print(x[i, j], ' = ', x[i, j].solution_value())#printing each decision variable"
      ],
      "metadata": {
        "colab": {
          "base_uri": "https://localhost:8080/"
        },
        "id": "xJSFTTeCi5IN",
        "outputId": "e1d500fa-d810-4efe-818b-7b92bb0a789c"
      },
      "execution_count": null,
      "outputs": [
        {
          "output_type": "stream",
          "name": "stdout",
          "text": [
            "Number of variables = 15\n",
            "optimal found\n",
            "Total cost =  2316.0 \n",
            "\n",
            "X[1,1]  =  6.0\n",
            "X[1,2]  =  0.0\n",
            "X[1,3]  =  9.0\n",
            "X[1,4]  =  0.0\n",
            "X[1,5]  =  0.0\n",
            "X[2,1]  =  2.0\n",
            "X[2,2]  =  0.0\n",
            "X[2,3]  =  0.0\n",
            "X[2,4]  =  10.0\n",
            "X[2,5]  =  8.0\n",
            "X[3,1]  =  3.0\n",
            "X[3,2]  =  12.0\n",
            "X[3,3]  =  0.0\n",
            "X[3,4]  =  0.0\n",
            "X[3,5]  =  0.0\n"
          ]
        }
      ]
    },
    {
      "cell_type": "code",
      "source": [
        "#To get the output in the matrix form\n",
        "print()\n",
        "print(' ' * 25, '─' * 25)\n",
        "print(' ' * 25,'Output in the matrix form')    \n",
        "print(' ' * 25, '─' * 25)\n",
        "print()\n",
        "print(' '*12, \"Market1\", ' '*3,\"Market2\", ' '*3,\"Market3\", \n",
        "      ' '*3,\"Market4\", ' '*3,\"Market5\", ' '*3, \"Total Supply\")\n",
        "print('─' * 90)\n",
        "for i in range(num_suppliers):\n",
        "      print(f\"Supplier {i+1}|\", ' '*3,end='')\n",
        "      for j in range(num_markets):\n",
        "          print(x[i, j].solution_value(), ' '*8,end='')\n",
        "      print(Supply[i],end='')    \n",
        "      print()\n",
        "\n",
        "print('─' * 90)\n",
        "print(\"Total Demand: \", [Demand[i] for i in range(num_markets)])         "
      ],
      "metadata": {
        "id": "sDLf77jHKQEK",
        "colab": {
          "base_uri": "https://localhost:8080/"
        },
        "outputId": "5f399974-60dd-4429-f2b2-273f2c015ce8"
      },
      "execution_count": null,
      "outputs": [
        {
          "output_type": "stream",
          "name": "stdout",
          "text": [
            "\n",
            "                          ─────────────────────────\n",
            "                          Output in the matrix form\n",
            "                          ─────────────────────────\n",
            "\n",
            "             Market1     Market2     Market3     Market4     Market5     Total Supply\n",
            "──────────────────────────────────────────────────────────────────────────────────────────\n",
            "Supplier 1|    6.0         0.0         9.0         0.0         0.0         15\n",
            "Supplier 2|    2.0         0.0         0.0         10.0         8.0         20\n",
            "Supplier 3|    3.0         12.0         0.0         0.0         0.0         15\n",
            "──────────────────────────────────────────────────────────────────────────────────────────\n",
            "Total Demand:  [11, 12, 9, 10, 8]\n"
          ]
        }
      ]
    },
    {
      "cell_type": "code",
      "source": [],
      "metadata": {
        "id": "XvYX7xNQ_7CO"
      },
      "execution_count": null,
      "outputs": []
    }
  ]
}