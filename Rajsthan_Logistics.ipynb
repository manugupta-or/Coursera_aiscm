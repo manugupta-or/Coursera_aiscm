{
  "nbformat": 4,
  "nbformat_minor": 0,
  "metadata": {
    "colab": {
      "provenance": [],
      "include_colab_link": true
    },
    "kernelspec": {
      "name": "python3",
      "display_name": "Python 3"
    },
    "language_info": {
      "name": "python"
    }
  },
  "cells": [
    {
      "cell_type": "markdown",
      "metadata": {
        "id": "view-in-github",
        "colab_type": "text"
      },
      "source": [
        "<a href=\"https://colab.research.google.com/github/manugupta-or/Coursera_aiscm/blob/main/Rajsthan_Logistics.ipynb\" target=\"_parent\"><img src=\"https://colab.research.google.com/assets/colab-badge.svg\" alt=\"Open In Colab\"/></a>"
      ]
    },
    {
      "cell_type": "code",
      "execution_count": 2,
      "metadata": {
        "colab": {
          "base_uri": "https://localhost:8080/"
        },
        "id": "G2sHmIecSzuu",
        "outputId": "882d9c9c-ecde-4a33-fd68-96209e0b4894"
      },
      "outputs": [
        {
          "output_type": "stream",
          "name": "stdout",
          "text": [
            "Looking in indexes: https://pypi.org/simple, https://us-python.pkg.dev/colab-wheels/public/simple/\n",
            "Requirement already satisfied: ortools in /usr/local/lib/python3.8/dist-packages (9.5.2237)\n",
            "Requirement already satisfied: absl-py>=0.13 in /usr/local/lib/python3.8/dist-packages (from ortools) (1.3.0)\n",
            "Requirement already satisfied: numpy>=1.13.3 in /usr/local/lib/python3.8/dist-packages (from ortools) (1.21.6)\n",
            "Requirement already satisfied: protobuf>=4.21.5 in /usr/local/lib/python3.8/dist-packages (from ortools) (4.21.11)\n"
          ]
        }
      ],
      "source": [
        "#importing necessary libraries\n",
        "!pip install ortools\n",
        "import numpy as np\n",
        "import pandas as pd"
      ]
    },
    {
      "cell_type": "code",
      "source": [
        "#Storing data\n",
        "dist = pd.read_excel('Rajasthan_logistics_data.xlsx')\n",
        "#keep Rajsthan logistics data file in the same folder as \n",
        "dist = dist[1:len(dist)][:].iloc[:,1:8]\n",
        "\n",
        "dist.columns = dist.iloc[0]\n",
        "dist = dist.iloc[1:7,:]\n",
        "dist = dist.set_index(dist.iloc[:,0],drop=True).iloc[:,1:7]\n",
        "print(dist)"
      ],
      "metadata": {
        "colab": {
          "base_uri": "https://localhost:8080/"
        },
        "id": "A9bfq5eJoXO3",
        "outputId": "b090fc27-19d4-44d2-cb75-360fa8caa0bf"
      },
      "execution_count": 3,
      "outputs": [
        {
          "output_type": "stream",
          "name": "stdout",
          "text": [
            "1         Udaipur Ajmer Bikaner Jaipur Jaisalmer Jodhpur\n",
            "nan                                                     \n",
            "Udaipur         0   265     501    394       490     251\n",
            "Ajmer         265     0     284    135       484     206\n",
            "Bikaner       501   284       0    342       331     252\n",
            "Jaipur        394   135     342      0       558     339\n",
            "Jaisalmer     490   484     331    558         0     283\n",
            "Jodhpur       251   206     252    339       283       0\n"
          ]
        }
      ]
    },
    {
      "cell_type": "code",
      "source": [
        "#creating all possible subsets\n",
        "def subsets(numbers):\n",
        "    if numbers == []:\n",
        "        return [[]]\n",
        "    x = subsets(numbers[1:])\n",
        "    return x + [[numbers[0]] + y for y in x]\n",
        " \n",
        "print(subsets([x for x  in range(len(dist))]))\n"
      ],
      "metadata": {
        "colab": {
          "base_uri": "https://localhost:8080/"
        },
        "id": "C0-swU8rtUBN",
        "outputId": "4969dd52-2869-444f-ac73-67b94a580e20"
      },
      "execution_count": 4,
      "outputs": [
        {
          "output_type": "stream",
          "name": "stdout",
          "text": [
            "[[], [5], [4], [4, 5], [3], [3, 5], [3, 4], [3, 4, 5], [2], [2, 5], [2, 4], [2, 4, 5], [2, 3], [2, 3, 5], [2, 3, 4], [2, 3, 4, 5], [1], [1, 5], [1, 4], [1, 4, 5], [1, 3], [1, 3, 5], [1, 3, 4], [1, 3, 4, 5], [1, 2], [1, 2, 5], [1, 2, 4], [1, 2, 4, 5], [1, 2, 3], [1, 2, 3, 5], [1, 2, 3, 4], [1, 2, 3, 4, 5], [0], [0, 5], [0, 4], [0, 4, 5], [0, 3], [0, 3, 5], [0, 3, 4], [0, 3, 4, 5], [0, 2], [0, 2, 5], [0, 2, 4], [0, 2, 4, 5], [0, 2, 3], [0, 2, 3, 5], [0, 2, 3, 4], [0, 2, 3, 4, 5], [0, 1], [0, 1, 5], [0, 1, 4], [0, 1, 4, 5], [0, 1, 3], [0, 1, 3, 5], [0, 1, 3, 4], [0, 1, 3, 4, 5], [0, 1, 2], [0, 1, 2, 5], [0, 1, 2, 4], [0, 1, 2, 4, 5], [0, 1, 2, 3], [0, 1, 2, 3, 5], [0, 1, 2, 3, 4], [0, 1, 2, 3, 4, 5]]\n"
          ]
        }
      ]
    },
    {
      "cell_type": "code",
      "source": [
        "from ortools.linear_solver import pywraplp\n",
        "#solver = pywraplp.Solver.CreateSolver('SCIP')\n",
        "\n",
        "#from ortools.sat.python import cp_model\n",
        "#Initializing the Model.\n",
        "model = pywraplp.Solver.CreateSolver('CBC')\n",
        "#Decision Variable X[i,j] - 1 if availing route from city i to city j, 0 - otherwise\n",
        "x=[[model.IntVar(0,1,'Binary Flag- %d%d' %(i,j)) for j in range(len(dist))] for i in range(len(dist))]\n",
        "\n",
        "#Constraint of outward routees from the city is 1.\n",
        "for i in range(len(dist)):\n",
        "    row_sum=0\n",
        "    for j in range(len(dist)):\n",
        "        if(i!=j):\n",
        "            row_sum=row_sum+x[i][j]   \n",
        "    model.Add(row_sum==1)\n",
        "\n",
        "#Constraint of inward routees to the city is 1.\n",
        "for j in range(len(dist)):\n",
        "    col_sum=0\n",
        "    for i in range(len(dist)):\n",
        "        if(i!=j):\n",
        "            col_sum=col_sum+x[i][j]\n",
        "        \n",
        "    model.Add(col_sum==1)\n",
        "#Subtour Elimination Constraint.\n",
        "col_ind={}\n",
        "#Getting all possible subsets.\n",
        "for item in subsets([x for x  in range(len(dist))]):\n",
        "    col_ind=[x for x  in range(len(dist))]\n",
        "    #Considering subsets having more than one elements\n",
        "    if(len(item)>=1):\n",
        "        #Creating a set with elements no in the subset\n",
        "        for val in item:\n",
        "            col_ind.remove(val)\n",
        "        #Adding the constraint that outward routes from the given set is atleast 1.\n",
        "        if(len(col_ind)>=1):\n",
        "            model.Add(sum([sum([x[i][j] for j in col_ind]) for i in item])>=1)\n",
        "            \n",
        "#Minimizing the objective for the distance travelled in the tour.\n",
        "model.Minimize(sum([sum([x[i][j]*dist.iloc[i,j] for j in range(len(dist))]) for i in range(len(dist))]))\n",
        "\n",
        "#solver = cp_model.CpSolver()\n",
        "\n",
        "status = model.Solve()\n",
        "\n",
        "print(status)\n",
        "if status == pywraplp.Solver.OPTIMAL or status == pywraplp.Solver.FEASIBLE:\n",
        "   # print('Status =', model.StatusName(status))\n",
        "    print('Distance travelled =', model.Objective().Value())\n",
        "\n",
        "    route=dist.columns[0]\n",
        "    row = 0\n",
        "    #Printing the optimum route.\n",
        "    print(\"Optimum route:\")\n",
        "    for count in range(len(dist)):\n",
        "        for j in range(len(dist)):\n",
        "            if(x[row][j].solution_value()==1):\n",
        "                route = route + \"->\" + dist.columns[j]\n",
        "                row=j\n",
        "                break\n",
        "    print(route)\n",
        "\n",
        "else:\n",
        "    print('No solution found.')"
      ],
      "metadata": {
        "colab": {
          "base_uri": "https://localhost:8080/"
        },
        "id": "la9DW2Jlt0VN",
        "outputId": "425439d7-9c79-489f-b04f-b7ae62ca3600"
      },
      "execution_count": 6,
      "outputs": [
        {
          "output_type": "stream",
          "name": "stdout",
          "text": [
            "0\n",
            "Distance travelled = 1607.0\n",
            "Optimum route:\n",
            "Udaipur->Jodhpur->Jaisalmer->Bikaner->Jaipur->Ajmer->Udaipur\n"
          ]
        }
      ]
    },
    {
      "cell_type": "markdown",
      "source": [
        "Q2. Security guard problem"
      ],
      "metadata": {
        "id": "MvktrWVcUhuE"
      }
    },
    {
      "cell_type": "code",
      "execution_count": null,
      "metadata": {
        "outputId": "df8a6dc7-b588-4555-e406-1f5abada4a4e",
        "colab": {
          "base_uri": "https://localhost:8080/"
        },
        "id": "TLLQLDqcVzhZ"
      },
      "outputs": [
        {
          "output_type": "stream",
          "name": "stdout",
          "text": [
            "Solution:\n",
            "Number of Security Guards needed = 32.0\n",
            "New Joiners for shift 0  -  3.0\n",
            "New Joiners for shift 1  -  2.0\n",
            "New Joiners for shift 2  -  6.0\n",
            "New Joiners for shift 3  -  9.0\n",
            "New Joiners for shift 4  -  2.0\n",
            "New Joiners for shift 5  -  10.0\n"
          ]
        }
      ],
      "source": [
        "\n",
        "from ortools.linear_solver import pywraplp\n",
        "def main():\n",
        "    # Create the linear solver with the GLOP backend.\n",
        "    solver = pywraplp.Solver.CreateSolver('CBC')#you can also use SCIP solver\n",
        "    \n",
        "    #Decision Variables\n",
        "    x = [solver.IntVar(0, 100, 'New Joiners for shift %d'%i) for i in range(6)]\n",
        "    \n",
        "    #Constraints - Assumng availability of guards is cyclic across days\n",
        "    solver.Add(x[4] + x[0] >= 5)\n",
        "    solver.Add(x[5] + x[1] >= 12)\n",
        "    solver.Add(x[0] + x[2] >= 8)\n",
        "    solver.Add(x[1] + x[3] >= 11)\n",
        "    solver.Add(x[2] + x[4] >= 8)\n",
        "    solver.Add(x[3] + x[5] >= 19)\n",
        "    \n",
        "    #Objective\n",
        "    solver.Minimize(sum([x[i] for i in range(6)]))\n",
        "    \n",
        "    sol = solver.Solve()\n",
        "    \n",
        "    print('Solution:')\n",
        "#     print(sol)\n",
        "    print('Number of Security Guards needed =', solver.Objective().Value())\n",
        "    for i in range(6):\n",
        "        print(x[i],\" - \", x[i].solution_value())\n",
        "    \n",
        "if __name__ == '__main__':\n",
        "    main()"
      ]
    },
    {
      "cell_type": "markdown",
      "source": [
        "Q3. Bank Loan"
      ],
      "metadata": {
        "id": "jG0WFhetUijU"
      }
    },
    {
      "cell_type": "code",
      "execution_count": null,
      "metadata": {
        "id": "6c4578e0",
        "outputId": "6c03633c-9c38-4ddd-9127-6a30699b0cbf",
        "colab": {
          "base_uri": "https://localhost:8080/"
        }
      },
      "outputs": [
        {
          "output_type": "stream",
          "name": "stdout",
          "text": [
            "Solution:\n",
            "Banks Income = 2984375.0\n",
            "Housing Loans  -  6250000.0\n",
            "Education Loans  -  10416666.666666666\n",
            "Senior Citizen Loans  -  8333333.333333332\n",
            "Money in project  -  0.0\n"
          ]
        }
      ],
      "source": [
        "\n",
        "from ortools.linear_solver import pywraplp\n",
        "def main():\n",
        "    # Create the linear solver with the GLOP backend.\n",
        "    solver = pywraplp.Solver.CreateSolver('GLOP')\n",
        "\n",
        "    # Create the decision variables.\n",
        "    h = solver.NumVar(0, solver.infinity(), 'Housing Loans')\n",
        "    e = solver.NumVar(0, solver.infinity(), 'Education Loans')\n",
        "    s = solver.NumVar(0, solver.infinity(), 'Senior Citizen Loans')\n",
        "    p = solver.NumVar(0, solver.infinity(), 'Money in project')\n",
        "\n",
        "    #Constraints\n",
        "    #Share of Housing Loans\n",
        "    solver.Add(0.75*h >= 0.25*(e+s))\n",
        "    solver.Add(0.4*h <= 0.6*(e+s))\n",
        "\n",
        "    #Share of Senior Citizen Loans\n",
        "    solver.Add(2*s/3 >= (h+e)/3)\n",
        "\n",
        "    #Capacity Constraint\n",
        "    solver.Add(h+e+s+p <= 25000000)#you can also use the equality constraint\n",
        "\n",
        "    solver.Maximize(0.085*h+0.1375*e+0.1225*s+0.09*p)\n",
        "\n",
        "    sol = solver.Solve()\n",
        "    \n",
        "    print('Solution:')\n",
        "#     print(sol)\n",
        "    print('Banks Income =', solver.Objective().Value())\n",
        "    print(h, \" - \", h.solution_value())\n",
        "    print(e, \" - \", e.solution_value())\n",
        "    print(s, \" - \", s.solution_value())\n",
        "    print(p, ' - ', p.solution_value())\n",
        "if __name__ == '__main__':\n",
        "    main()"
      ]
    }
  ]
}