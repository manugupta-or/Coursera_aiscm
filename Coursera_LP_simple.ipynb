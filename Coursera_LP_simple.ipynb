{
  "nbformat": 4,
  "nbformat_minor": 0,
  "metadata": {
    "colab": {
      "provenance": []
    },
    "kernelspec": {
      "name": "python3",
      "display_name": "Python 3"
    },
    "language_info": {
      "name": "python"
    }
  },
  "cells": [
    {
      "cell_type": "code",
      "execution_count": null,
      "metadata": {
        "id": "op2ccFGU_MIT",
        "outputId": "79c3ea49-b7e8-4489-902a-343171ce64a6",
        "colab": {
          "base_uri": "https://localhost:8080/"
        }
      },
      "outputs": [
        {
          "output_type": "stream",
          "name": "stdout",
          "text": [
            "Looking in indexes: https://pypi.org/simple, https://us-python.pkg.dev/colab-wheels/public/simple/\n",
            "Collecting ortools\n",
            "  Downloading ortools-9.4.1874-cp37-cp37m-manylinux_2_17_x86_64.manylinux2014_x86_64.whl (16.0 MB)\n",
            "\u001b[K     |████████████████████████████████| 16.0 MB 14.8 MB/s \n",
            "\u001b[?25hCollecting protobuf>=3.19.4\n",
            "  Downloading protobuf-4.21.6-cp37-abi3-manylinux2014_x86_64.whl (408 kB)\n",
            "\u001b[K     |████████████████████████████████| 408 kB 77.4 MB/s \n",
            "\u001b[?25hRequirement already satisfied: absl-py>=0.13 in /usr/local/lib/python3.7/dist-packages (from ortools) (1.2.0)\n",
            "Requirement already satisfied: numpy>=1.13.3 in /usr/local/lib/python3.7/dist-packages (from ortools) (1.21.6)\n",
            "Installing collected packages: protobuf, ortools\n",
            "  Attempting uninstall: protobuf\n",
            "    Found existing installation: protobuf 3.17.3\n",
            "    Uninstalling protobuf-3.17.3:\n",
            "      Successfully uninstalled protobuf-3.17.3\n",
            "\u001b[31mERROR: pip's dependency resolver does not currently take into account all the packages that are installed. This behaviour is the source of the following dependency conflicts.\n",
            "tensorflow 2.8.2+zzzcolab20220719082949 requires protobuf<3.20,>=3.9.2, but you have protobuf 4.21.6 which is incompatible.\n",
            "tensorflow-metadata 1.10.0 requires protobuf<4,>=3.13, but you have protobuf 4.21.6 which is incompatible.\n",
            "google-cloud-bigquery-storage 1.1.2 requires protobuf<4.0.0dev, but you have protobuf 4.21.6 which is incompatible.\n",
            "google-api-core 1.31.6 requires protobuf<4.0.0dev,>=3.12.0; python_version > \"3\", but you have protobuf 4.21.6 which is incompatible.\u001b[0m\n",
            "Successfully installed ortools-9.4.1874 protobuf-4.21.6\n",
            "Objective value = 3000.0\n",
            "x: 2.0\n",
            "y: 6.0\n"
          ]
        }
      ],
      "source": [
        "#Install OR tools\n",
        "!pip install ortools \n",
        "\n",
        "#Import necessary packages\n",
        "from ortools.linear_solver import pywraplp\n",
        "\n",
        "# Create the linear solver with the GLOP backend.\n",
        "solver = pywraplp.Solver.CreateSolver('glop')\n",
        "\n",
        "\n",
        "# Create the variables x and y.\n",
        "x = solver.NumVar(0, solver.infinity(), 'x')\n",
        "y = solver.NumVar(0, solver.infinity(), 'y')\n",
        "\n",
        "#Adding constraints\n",
        "solver.Add(x<=4)\n",
        "solver.Add(y<=6)\n",
        "solver.Add(3*x +2*y<=18)\n",
        "\n",
        "#Adding Objective\n",
        "solver.Maximize(300*x+400*y)\n",
        "\n",
        "#Calling solver\n",
        "results = solver.Solve()\n",
        "\n",
        "#To check if the optimal is found \n",
        "#and printing the optimal objective value\n",
        "if results == pywraplp.Solver.OPTIMAL:\n",
        "        print('Objective value =', solver.Objective().Value())    \n",
        "        print('x:', x.solution_value())\n",
        "        print('y:', y.solution_value())\n",
        "else:\n",
        "        print('The problem does not have an optimal solution.')"
      ]
    }
  ]
}