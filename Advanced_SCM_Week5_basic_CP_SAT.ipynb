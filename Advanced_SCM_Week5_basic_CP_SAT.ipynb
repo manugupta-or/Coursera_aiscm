{
  "nbformat": 4,
  "nbformat_minor": 0,
  "metadata": {
    "colab": {
      "provenance": [],
      "include_colab_link": true
    },
    "kernelspec": {
      "name": "python3",
      "display_name": "Python 3"
    },
    "language_info": {
      "name": "python"
    }
  },
  "cells": [
    {
      "cell_type": "markdown",
      "metadata": {
        "id": "view-in-github",
        "colab_type": "text"
      },
      "source": [
        "<a href=\"https://colab.research.google.com/github/manugupta-or/Coursera_aiscm/blob/main/Advanced_SCM_Week5_basic_CP_SAT.ipynb\" target=\"_parent\"><img src=\"https://colab.research.google.com/assets/colab-badge.svg\" alt=\"Open In Colab\"/></a>"
      ]
    },
    {
      "cell_type": "code",
      "execution_count": null,
      "metadata": {
        "colab": {
          "base_uri": "https://localhost:8080/"
        },
        "id": "Ru8U-MTVsUZG",
        "outputId": "a6162bcb-50c4-4b0e-f4a9-6b1dc0e0cb8f"
      },
      "outputs": [
        {
          "output_type": "stream",
          "name": "stdout",
          "text": [
            "Requirement already satisfied: ortools in /usr/local/lib/python3.7/dist-packages (9.2.9972)\n",
            "Requirement already satisfied: absl-py>=0.13 in /usr/local/lib/python3.7/dist-packages (from ortools) (1.0.0)\n",
            "Requirement already satisfied: protobuf>=3.19.1 in /usr/local/lib/python3.7/dist-packages (from ortools) (3.19.4)\n",
            "Requirement already satisfied: numpy>=1.13.3 in /usr/local/lib/python3.7/dist-packages (from ortools) (1.19.5)\n",
            "Requirement already satisfied: six in /usr/local/lib/python3.7/dist-packages (from absl-py>=0.13->ortools) (1.15.0)\n"
          ]
        }
      ],
      "source": [
        "!pip install ortools"
      ]
    },
    {
      "cell_type": "code",
      "source": [
        "from ortools.sat.python import cp_model\n",
        "\n",
        "# Creates the model.\n",
        "model = cp_model.CpModel()\n",
        "\n",
        "# Creates the variables.\n",
        "x = model.NewIntVar(0, 2, 'x')\n",
        "y = model.NewIntVar(0, 2, 'y')\n",
        "z = model.NewIntVar(0, 2, 'z')\n",
        "\n",
        "# Creates the constraints.\n",
        "model.Add(x != y)\n",
        "#model.Maximize(2*x+2*y+3*z)\n",
        "\n",
        "# Creates a solver and solves the model.\n",
        "solver = cp_model.CpSolver()\n",
        "status = solver.Solve(model)\n",
        "\n",
        "if status == cp_model.OPTIMAL or status == cp_model.FEASIBLE:\n",
        "  print('Status =', solver.StatusName(status))\n",
        "  print('x = %i' % solver.Value(x))\n",
        "  print('y = %i' % solver.Value(y))\n",
        "  print('z = %i' % solver.Value(z))\n",
        "else:\n",
        "  print('No solution found.')\n"
      ],
      "metadata": {
        "colab": {
          "base_uri": "https://localhost:8080/"
        },
        "id": "Z4Ha8VOktAoV",
        "outputId": "41b5afdf-4b16-45fd-bd63-ccc1dee95ca4"
      },
      "execution_count": null,
      "outputs": [
        {
          "output_type": "stream",
          "name": "stdout",
          "text": [
            "Status = OPTIMAL\n",
            "x = 1\n",
            "y = 0\n",
            "z = 0\n"
          ]
        }
      ]
    },
    {
      "cell_type": "code",
      "source": [
        "# Printing all possible solutions\n",
        "\n",
        "class VarArraySolutionPrinter(cp_model.CpSolverSolutionCallback):\n",
        "    \"\"\"Print intermediate solutions.\"\"\"\n",
        "\n",
        "    def __init__(self, variables):\n",
        "        cp_model.CpSolverSolutionCallback.__init__(self)\n",
        "        self.__variables = variables\n",
        "        self.__solution_count = 0\n",
        "\n",
        "    def on_solution_callback(self):\n",
        "        self.__solution_count += 1\n",
        "        for v in self.__variables:\n",
        "            print('%s=%i' % (v, self.Value(v)), end=' ')\n",
        "        print()\n",
        "\n",
        "    def solution_count(self):\n",
        "        return self.__solution_count\n",
        "\n",
        "\n",
        "solution_printer = VarArraySolutionPrinter([x, y, z])\n",
        "status = solver.SearchForAllSolutions(model, solution_printer)"
      ],
      "metadata": {
        "colab": {
          "base_uri": "https://localhost:8080/"
        },
        "id": "GHg9bJXq30j7",
        "outputId": "5d8326f8-aa97-4368-f0df-5efc954ca628"
      },
      "execution_count": null,
      "outputs": [
        {
          "output_type": "stream",
          "name": "stdout",
          "text": [
            "x=1 y=0 z=0 \n",
            "x=2 y=0 z=0 \n",
            "x=2 y=0 z=1 \n",
            "x=1 y=0 z=1 \n",
            "x=2 y=1 z=1 \n",
            "x=2 y=1 z=0 \n",
            "x=2 y=1 z=2 \n",
            "x=2 y=0 z=2 \n",
            "x=1 y=0 z=2 \n",
            "x=0 y=1 z=2 \n",
            "x=0 y=1 z=1 \n",
            "x=0 y=2 z=1 \n",
            "x=0 y=2 z=2 \n",
            "x=1 y=2 z=2 \n",
            "x=1 y=2 z=1 \n",
            "x=1 y=2 z=0 \n",
            "x=0 y=2 z=0 \n",
            "x=0 y=1 z=0 \n"
          ]
        }
      ]
    }
  ]
}