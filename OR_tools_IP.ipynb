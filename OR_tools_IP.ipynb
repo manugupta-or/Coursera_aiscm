{
  "nbformat": 4,
  "nbformat_minor": 0,
  "metadata": {
    "colab": {
      "provenance": []
    },
    "kernelspec": {
      "name": "python3",
      "display_name": "Python 3"
    },
    "language_info": {
      "name": "python"
    }
  },
  "cells": [
    {
      "cell_type": "code",
      "execution_count": 4,
      "metadata": {
        "id": "WqZvJ9Hq1P6U",
        "colab": {
          "base_uri": "https://localhost:8080/"
        },
        "outputId": "60d4bc53-fc48-4537-ece6-9ca150631534"
      },
      "outputs": [
        {
          "output_type": "stream",
          "name": "stdout",
          "text": [
            "Looking in indexes: https://pypi.org/simple, https://us-python.pkg.dev/colab-wheels/public/simple/\n",
            "Requirement already satisfied: ortools in /usr/local/lib/python3.8/dist-packages (9.5.2237)\n",
            "Requirement already satisfied: numpy>=1.13.3 in /usr/local/lib/python3.8/dist-packages (from ortools) (1.21.6)\n",
            "Requirement already satisfied: absl-py>=0.13 in /usr/local/lib/python3.8/dist-packages (from ortools) (1.3.0)\n",
            "Requirement already satisfied: protobuf>=4.21.5 in /usr/local/lib/python3.8/dist-packages (from ortools) (4.21.10)\n"
          ]
        }
      ],
      "source": [
        "!pip install ortools"
      ]
    },
    {
      "cell_type": "code",
      "source": [
        "from ortools.linear_solver import pywraplp\n",
        "\n",
        "\n",
        "# Create the mip solver with the SCIP backend.\n",
        "solver = pywraplp.Solver.CreateSolver('SCIP')\n",
        "\n",
        "infinity = solver.infinity()\n",
        "# x and y are integer non-negative variables.\n",
        "x = solver.IntVar(0.0, infinity, 'x')\n",
        "y = solver.IntVar(0.0, infinity, 'y')\n",
        "\n",
        "print('Number of variables =', solver.NumVariables())\n",
        "\n",
        "# x + 7 * y <= 17.5.\n",
        "solver.Add(x + 7 * y <= 17.5)\n",
        "\n",
        "# x <= 3.5.\n",
        "solver.Add(x <= 3.5)\n",
        "\n",
        "print('Number of constraints =', solver.NumConstraints())\n",
        "\n",
        "# Maximize x + 10 * y.\n",
        "solver.Maximize(x + 10 * y)\n",
        "\n",
        "results = solver.Solve()\n",
        "\n",
        "if results == pywraplp.Solver.OPTIMAL:\n",
        "\tprint('Solution:')\n",
        "\tprint('Objective value =', solver.Objective().Value())\n",
        "\tprint('x =', x.solution_value())\n",
        "\tprint('y =', y.solution_value())\n",
        "else:\n",
        "\tprint('The problem does not have an optimal solution.')\n",
        "\n",
        "# print('\\nAdvanced usage:')\n",
        "# print('Problem solved in %f milliseconds' % solver.wall_time())\n",
        "# print('Problem solved in %d iterations' % solver.iterations())\n",
        "# print('Problem solved in %d branch-and-bound nodes' % solver.nodes())\n"
      ],
      "metadata": {
        "colab": {
          "base_uri": "https://localhost:8080/"
        },
        "id": "n2jiogmF1WIz",
        "outputId": "47cdfa00-7cc0-4f99-a2c5-2eabf5aaa5cd"
      },
      "execution_count": 3,
      "outputs": [
        {
          "output_type": "stream",
          "name": "stdout",
          "text": [
            "Number of variables = 2\n",
            "Number of constraints = 2\n",
            "Solution:\n",
            "Objective value = 23.0\n",
            "x = 3.0\n",
            "y = 2.0\n"
          ]
        }
      ]
    },
    {
      "cell_type": "code",
      "source": [],
      "metadata": {
        "id": "9i2rUyc31q-b"
      },
      "execution_count": null,
      "outputs": []
    },
    {
      "cell_type": "code",
      "source": [],
      "metadata": {
        "id": "uGpIFriVhPpJ"
      },
      "execution_count": null,
      "outputs": []
    }
  ]
}