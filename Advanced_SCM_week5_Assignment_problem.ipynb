{
  "nbformat": 4,
  "nbformat_minor": 0,
  "metadata": {
    "colab": {
      "provenance": [],
      "include_colab_link": true
    },
    "kernelspec": {
      "name": "python3",
      "display_name": "Python 3"
    },
    "language_info": {
      "name": "python"
    }
  },
  "cells": [
    {
      "cell_type": "markdown",
      "metadata": {
        "id": "view-in-github",
        "colab_type": "text"
      },
      "source": [
        "<a href=\"https://colab.research.google.com/github/manugupta-or/Coursera_aiscm/blob/main/Advanced_SCM_week5_Assignment_problem.ipynb\" target=\"_parent\"><img src=\"https://colab.research.google.com/assets/colab-badge.svg\" alt=\"Open In Colab\"/></a>"
      ]
    },
    {
      "cell_type": "code",
      "execution_count": null,
      "metadata": {
        "colab": {
          "base_uri": "https://localhost:8080/"
        },
        "id": "pgpp1ryTiwHe",
        "outputId": "e08145be-5aab-4ed8-823d-81bc5dc4b95a"
      },
      "outputs": [
        {
          "output_type": "stream",
          "name": "stdout",
          "text": [
            "Looking in indexes: https://pypi.org/simple, https://us-python.pkg.dev/colab-wheels/public/simple/\n",
            "Requirement already satisfied: ortools in /usr/local/lib/python3.8/dist-packages (9.5.2237)\n",
            "Requirement already satisfied: protobuf>=4.21.5 in /usr/local/lib/python3.8/dist-packages (from ortools) (4.21.11)\n",
            "Requirement already satisfied: absl-py>=0.13 in /usr/local/lib/python3.8/dist-packages (from ortools) (1.3.0)\n",
            "Requirement already satisfied: numpy>=1.13.3 in /usr/local/lib/python3.8/dist-packages (from ortools) (1.21.6)\n"
          ]
        }
      ],
      "source": [
        "!pip install ortools"
      ]
    },
    {
      "cell_type": "code",
      "source": [
        "from ortools.linear_solver import pywraplp\n",
        "\n",
        "\n",
        "\n",
        "# Data\n",
        "costs = [\n",
        "    [90, 80, 75, 70],\n",
        "    [35, 85, 55, 65],\n",
        "    [125, 95, 90, 95],\n",
        "    [45, 110, 95, 115],\n",
        "    [50, 100, 90, 100],\n",
        "]\n",
        "num_workers = len(costs)\n",
        "num_tasks = len(costs[0])\n",
        "\n",
        "# Solver\n",
        "# Create the mip solver with the SCIP backend.\n",
        "solver = pywraplp.Solver.CreateSolver('SCIP')\n",
        "\n",
        "\n",
        "# Variables\n",
        "# x[i, j] is an array of 0-1 variables, which will be 1\n",
        "# if worker i is assigned to task j.\n",
        "x = {}\n",
        "for i in range(num_workers):\n",
        "    for j in range(num_tasks):\n",
        "        x[i, j] = solver.IntVar(0, 1, '')\n",
        "\n",
        "# Constraints\n",
        "# Each worker is assigned to at most 1 task.\n",
        "for i in range(num_workers):\n",
        "    solver.Add(solver.Sum([x[i, j] for j in range(num_tasks)]) <= 1)\n",
        "\n",
        "# Each task is assigned to exactly one worker.\n",
        "for j in range(num_tasks):\n",
        "    solver.Add(solver.Sum([x[i, j] for i in range(num_workers)]) == 1)\n",
        "\n",
        "# Objective\n",
        "objective_terms = []\n",
        "for i in range(num_workers):\n",
        "    for j in range(num_tasks):\n",
        "        objective_terms.append(costs[i][j] * x[i, j])\n",
        "solver.Minimize(solver.Sum(objective_terms))\n",
        "\n",
        "# Solve\n",
        "status = solver.Solve()\n",
        "\n",
        "# Print solution.\n",
        "if status == pywraplp.Solver.OPTIMAL or status == pywraplp.Solver.FEASIBLE:\n",
        "    print('Total cost = ', solver.Objective().Value(), '\\n')\n",
        "    for i in range(num_workers):\n",
        "        for j in range(num_tasks):\n",
        "            # Test if x[i,j] is 1 (with tolerance for floating point arithmetic).\n",
        "            if x[i, j].solution_value() > 0.5:\n",
        "                print('Worker %d assigned to task %d.  Cost = %d' %\n",
        "                      (i, j, costs[i][j]))\n",
        "\n"
      ],
      "metadata": {
        "colab": {
          "base_uri": "https://localhost:8080/"
        },
        "id": "xJSFTTeCi5IN",
        "outputId": "e53d96bb-c4ba-4cc1-f712-7eb80e280617"
      },
      "execution_count": null,
      "outputs": [
        {
          "output_type": "stream",
          "name": "stdout",
          "text": [
            "Total cost =  265.0 \n",
            "\n",
            "Worker 0 assigned to task 3.  Cost = 70\n",
            "Worker 1 assigned to task 2.  Cost = 55\n",
            "Worker 2 assigned to task 1.  Cost = 95\n",
            "Worker 3 assigned to task 0.  Cost = 45\n"
          ]
        }
      ]
    }
  ]
}