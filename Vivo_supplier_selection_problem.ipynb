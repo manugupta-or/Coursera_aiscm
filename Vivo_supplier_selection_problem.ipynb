{
  "nbformat": 4,
  "nbformat_minor": 0,
  "metadata": {
    "colab": {
      "provenance": [],
      "include_colab_link": true
    },
    "kernelspec": {
      "name": "python3",
      "display_name": "Python 3"
    },
    "language_info": {
      "name": "python"
    }
  },
  "cells": [
    {
      "cell_type": "markdown",
      "metadata": {
        "id": "view-in-github",
        "colab_type": "text"
      },
      "source": [
        "<a href=\"https://colab.research.google.com/github/manugupta-or/Coursera_aiscm/blob/main/Vivo_supplier_selection_problem.ipynb\" target=\"_parent\"><img src=\"https://colab.research.google.com/assets/colab-badge.svg\" alt=\"Open In Colab\"/></a>"
      ]
    },
    {
      "cell_type": "code",
      "source": [
        "!pip install ortools"
      ],
      "metadata": {
        "colab": {
          "base_uri": "https://localhost:8080/"
        },
        "id": "D8fV8UtNcUuk",
        "outputId": "4dab2a01-3180-4789-c30a-670d87cfdd5a"
      },
      "execution_count": 7,
      "outputs": [
        {
          "output_type": "stream",
          "name": "stdout",
          "text": [
            "Looking in indexes: https://pypi.org/simple, https://us-python.pkg.dev/colab-wheels/public/simple/\n",
            "Requirement already satisfied: ortools in /usr/local/lib/python3.8/dist-packages (9.5.2237)\n",
            "Requirement already satisfied: numpy>=1.13.3 in /usr/local/lib/python3.8/dist-packages (from ortools) (1.21.6)\n",
            "Requirement already satisfied: protobuf>=4.21.5 in /usr/local/lib/python3.8/dist-packages (from ortools) (4.21.10)\n",
            "Requirement already satisfied: absl-py>=0.13 in /usr/local/lib/python3.8/dist-packages (from ortools) (1.3.0)\n"
          ]
        }
      ]
    },
    {
      "cell_type": "markdown",
      "source": [
        "Vivo Supplier Selection Problem"
      ],
      "metadata": {
        "id": "iSQaz2MhdQbC"
      }
    },
    {
      "cell_type": "code",
      "source": [
        "from ortools.linear_solver import pywraplp\n",
        "import numpy as np\n",
        "#storing data\n",
        "discounts = [\n",
        "    [7, 22, 25, 34, 35],\n",
        "    [30, 18, 18, 31, 26],\n",
        "    [21, 30, 34, 12, 14],\n",
        "    [27, 29, 30, 60, 6],\n",
        "    [31, 25, 10, 13, 30],\n",
        "    [23, 32, 15, 60, 9],\n",
        "    [6, 21, 18, 60, 28],\n",
        "    [17, 18, 6, 8, 31]\n",
        "]\n",
        "\n",
        "\n",
        "demand = [592, 446, 548, 647, 245, 797, 603, 401]\n",
        "list_price = [870, 630, 960, 400, 980, 510, 830, 550]\n",
        "fixed_admin_cost = 50000\n",
        "reliability = 0.8\n",
        "num_product = len(discounts)\n",
        "num_supplier = len(discounts[1])\n",
        "\n",
        "# discounted_price = np.zeros(40).reshape(num_product,num_supplier)\n",
        "# for i in range(num_product):\n",
        "#   for j in range(num_supplier):\n",
        "#     discounted_price[i][j] = (1-(discounts[i][j])/100) * list_price[i]\n",
        "\n",
        "# print(discounted_price)\n",
        "\n",
        "# Create the mip solver with the SCIP backend.\n",
        "solver = pywraplp.Solver.CreateSolver('SCIP')"
      ],
      "metadata": {
        "id": "2mhKbHVJREmB"
      },
      "execution_count": 8,
      "outputs": []
    },
    {
      "cell_type": "code",
      "source": [
        "#Create the decision variables \n",
        "infinity = solver.infinity()\n",
        "\n",
        "y = {} #binary decision variable\n",
        "for j in range(num_supplier):\n",
        "    y[j] = solver.IntVar(0, 1, 'y[%i]' % (j+1))\n",
        "print(y)\n",
        "\n",
        "x_var = {} #Decision variable for the quantity of ith Product from jth Supplier \n",
        "k = 0\n",
        "for i in range(num_product):\n",
        "  x_var[i] = [solver.NumVar(0, infinity, 'X[%d][%d]' %((i+1),(j+1))) for j in range(num_supplier)]\n",
        " # k=k+1\n",
        "\n",
        "print(x_var)\n",
        "print(type(x_var))\n",
        "\n",
        "import pandas as pd\n",
        "pd_frame = pd.DataFrame.from_dict(x_var)\n",
        "print(pd_frame.transpose())\n",
        "\n",
        "print('Number of variables =', solver.NumVariables())\n",
        "\n",
        "#      x_var[i] = [solver.IntVar(0, infinity, 'Supplier %d, Product %d' %((i+1),(y+1))) for y in range(len(data_arr['requirements']))]\n"
      ],
      "metadata": {
        "colab": {
          "base_uri": "https://localhost:8080/"
        },
        "id": "mbB88ZurRlxX",
        "outputId": "a76e504f-f5cd-4957-bb0e-9b7f99e9cdb4"
      },
      "execution_count": 9,
      "outputs": [
        {
          "output_type": "stream",
          "name": "stdout",
          "text": [
            "{0: y[1], 1: y[2], 2: y[3], 3: y[4], 4: y[5]}\n",
            "{0: [X[1][1], X[1][2], X[1][3], X[1][4], X[1][5]], 1: [X[2][1], X[2][2], X[2][3], X[2][4], X[2][5]], 2: [X[3][1], X[3][2], X[3][3], X[3][4], X[3][5]], 3: [X[4][1], X[4][2], X[4][3], X[4][4], X[4][5]], 4: [X[5][1], X[5][2], X[5][3], X[5][4], X[5][5]], 5: [X[6][1], X[6][2], X[6][3], X[6][4], X[6][5]], 6: [X[7][1], X[7][2], X[7][3], X[7][4], X[7][5]], 7: [X[8][1], X[8][2], X[8][3], X[8][4], X[8][5]]}\n",
            "<class 'dict'>\n",
            "         0        1        2        3        4\n",
            "0  X[1][1]  X[1][2]  X[1][3]  X[1][4]  X[1][5]\n",
            "1  X[2][1]  X[2][2]  X[2][3]  X[2][4]  X[2][5]\n",
            "2  X[3][1]  X[3][2]  X[3][3]  X[3][4]  X[3][5]\n",
            "3  X[4][1]  X[4][2]  X[4][3]  X[4][4]  X[4][5]\n",
            "4  X[5][1]  X[5][2]  X[5][3]  X[5][4]  X[5][5]\n",
            "5  X[6][1]  X[6][2]  X[6][3]  X[6][4]  X[6][5]\n",
            "6  X[7][1]  X[7][2]  X[7][3]  X[7][4]  X[7][5]\n",
            "7  X[8][1]  X[8][2]  X[8][3]  X[8][4]  X[8][5]\n",
            "Number of variables = 45\n"
          ]
        }
      ]
    },
    {
      "cell_type": "code",
      "source": [
        "#Create the constraints\n",
        "\n",
        "# Creating reliability constraint\n",
        "for i in range(num_product):\n",
        "  for j in range(num_supplier):\n",
        "    solver.Add(x_var[i][j] <= reliability*demand[i]*y[j])\n",
        "    #p#rint(x_var[i][j])\n",
        "    #print(demand[i])\n",
        "   # print(y[j])\n",
        "\n",
        "#Creating demand satisfaction constraint\n",
        "for i in range(num_product):\n",
        "  expr = [x_var[i][j] for j in range(num_supplier)]\n",
        "  solver.Add(sum(expr) >= demand[i])\n",
        "  #print(expr)\n",
        "  #print(sum(expr))\n",
        "  #print(demand[i])\n",
        "\n",
        "print('Number of constraints =', solver.NumConstraints())\n"
      ],
      "metadata": {
        "colab": {
          "base_uri": "https://localhost:8080/"
        },
        "id": "0KH6oVQtV2ss",
        "outputId": "d4e5b9cf-ba96-4d3b-c9fc-54b74fa92ffa"
      },
      "execution_count": 10,
      "outputs": [
        {
          "output_type": "stream",
          "name": "stdout",
          "text": [
            "Number of constraints = 48\n"
          ]
        }
      ]
    },
    {
      "cell_type": "code",
      "source": [
        "\n",
        "objective_terms = []\n",
        "for i in range(num_product):\n",
        "    for j in range(num_supplier):\n",
        "        objective_terms.append((1-(discounts[i][j])/100) * list_price[i] * x_var[i][j])\n",
        "\n",
        "for j in range(num_supplier):\n",
        "    objective_terms.append(fixed_admin_cost  * y[j])\n",
        "\n",
        "\n",
        "solver.Minimize(solver.Sum(objective_terms))\n",
        "\n",
        "status = solver.Solve()"
      ],
      "metadata": {
        "id": "NF4dbsTnulgu"
      },
      "execution_count": 11,
      "outputs": []
    },
    {
      "cell_type": "code",
      "source": [
        "if status == pywraplp.Solver.OPTIMAL:\n",
        "  print('Minimum Cost Incurred to Satisfy Demand = ', solver.Objective().Value())\n",
        "  print()\n",
        "  for j in range(num_supplier):\n",
        "    print(y[j] , ' = ', y[j].solution_value())\n",
        "  for i in range(num_product):\n",
        "    print()\n",
        "    for j in range(num_supplier):\n",
        "      if(round(x_var[i][j].solution_value(),2) == -0.0):\n",
        "        print(x_var[i][j], \" = \", 0.0 , \"| \",end=\" \")\n",
        "      else:\n",
        "        print(x_var[i][j], \" = \", round(x_var[i][j].solution_value(),2), \"| \",end=\" \")  \n",
        "\n",
        "else:\n",
        "        print('The problem does not have an optimal solution.')\n"
      ],
      "metadata": {
        "colab": {
          "base_uri": "https://localhost:8080/"
        },
        "id": "z6o6x8e9JE5_",
        "outputId": "8b7c6edf-2920-4a0d-9d56-92584f605050"
      },
      "execution_count": 19,
      "outputs": [
        {
          "output_type": "stream",
          "name": "stdout",
          "text": [
            "Minimum Cost Incurred to Satisfy Demand =  1933110.7200000002\n",
            "\n",
            "y[1]  =  0.0\n",
            "y[2]  =  1.0\n",
            "y[3]  =  -0.0\n",
            "y[4]  =  1.0\n",
            "y[5]  =  1.0\n",
            "\n",
            "X[1][1]  =  0.0 |  X[1][2]  =  0.0 |  X[1][3]  =  0.0 |  X[1][4]  =  118.4 |  X[1][5]  =  473.6 |  \n",
            "X[2][1]  =  0.0 |  X[2][2]  =  0.0 |  X[2][3]  =  0.0 |  X[2][4]  =  356.8 |  X[2][5]  =  89.2 |  \n",
            "X[3][1]  =  0.0 |  X[3][2]  =  438.4 |  X[3][3]  =  0.0 |  X[3][4]  =  0.0 |  X[3][5]  =  109.6 |  \n",
            "X[4][1]  =  0.0 |  X[4][2]  =  129.4 |  X[4][3]  =  0.0 |  X[4][4]  =  517.6 |  X[4][5]  =  0.0 |  \n",
            "X[5][1]  =  0.0 |  X[5][2]  =  49.0 |  X[5][3]  =  0.0 |  X[5][4]  =  0.0 |  X[5][5]  =  196.0 |  \n",
            "X[6][1]  =  0.0 |  X[6][2]  =  159.4 |  X[6][3]  =  0.0 |  X[6][4]  =  637.6 |  X[6][5]  =  0.0 |  \n",
            "X[7][1]  =  0.0 |  X[7][2]  =  0.0 |  X[7][3]  =  0.0 |  X[7][4]  =  482.4 |  X[7][5]  =  120.6 |  \n",
            "X[8][1]  =  0.0 |  X[8][2]  =  80.2 |  X[8][3]  =  0.0 |  X[8][4]  =  0.0 |  X[8][5]  =  320.8 |  "
          ]
        }
      ]
    },
    {
      "cell_type": "code",
      "source": [],
      "metadata": {
        "id": "YpTHohY-LS3_"
      },
      "execution_count": 12,
      "outputs": []
    }
  ]
}