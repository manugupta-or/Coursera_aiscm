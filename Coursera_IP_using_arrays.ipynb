{
  "nbformat": 4,
  "nbformat_minor": 0,
  "metadata": {
    "colab": {
      "provenance": [],
      "authorship_tag": "ABX9TyP+VfvO41HpwbzLZTuU+ki6",
      "include_colab_link": true
    },
    "kernelspec": {
      "name": "python3",
      "display_name": "Python 3"
    },
    "language_info": {
      "name": "python"
    }
  },
  "cells": [
    {
      "cell_type": "markdown",
      "metadata": {
        "id": "view-in-github",
        "colab_type": "text"
      },
      "source": [
        "<a href=\"https://colab.research.google.com/github/manugupta-or/Coursera_aiscm/blob/main/Coursera_IP_using_arrays.ipynb\" target=\"_parent\"><img src=\"https://colab.research.google.com/assets/colab-badge.svg\" alt=\"Open In Colab\"/></a>"
      ]
    },
    {
      "cell_type": "code",
      "execution_count": 2,
      "metadata": {
        "colab": {
          "base_uri": "https://localhost:8080/"
        },
        "id": "vK01-foaJOR6",
        "outputId": "19ec8e88-26ca-4f39-9363-6ae3c5d9a09a"
      },
      "outputs": [
        {
          "output_type": "stream",
          "name": "stdout",
          "text": [
            "Looking in indexes: https://pypi.org/simple, https://us-python.pkg.dev/colab-wheels/public/simple/\n",
            "Requirement already satisfied: ortools in /usr/local/lib/python3.8/dist-packages (9.5.2237)\n",
            "Requirement already satisfied: numpy>=1.13.3 in /usr/local/lib/python3.8/dist-packages (from ortools) (1.21.6)\n",
            "Requirement already satisfied: protobuf>=4.21.5 in /usr/local/lib/python3.8/dist-packages (from ortools) (4.21.10)\n",
            "Requirement already satisfied: absl-py>=0.13 in /usr/local/lib/python3.8/dist-packages (from ortools) (1.3.0)\n"
          ]
        }
      ],
      "source": [
        "!pip install ortools"
      ]
    },
    {
      "cell_type": "code",
      "source": [
        "#Method 1\n",
        "from ortools.linear_solver import pywraplp\n",
        "\n",
        "#Storing data\n",
        "constraint_coeffs = [\n",
        "    [5, 7, 9, 2, 1],\n",
        "    [18, 4, -9, 10, 12],\n",
        "    [4, 7, 3, 8, 5],\n",
        "    [5, 13, 16, 3, -7],\n",
        "]\n",
        "\n",
        "bounds = [250, 285, 211, 315]\n",
        "obj_coeffs = [7, 8, 2, 9, 6]\n",
        "num_vars = 5\n",
        "num_constraints = 4\n",
        "\n",
        "\n",
        "# Create the mip solver with the SCIP backend.\n",
        "solver = pywraplp.Solver.CreateSolver('SCIP')\n",
        "\n",
        "#Create the decision variables \n",
        "infinity = solver.infinity()\n",
        "x = {}\n",
        "for j in range(num_vars):\n",
        "    x[j] = solver.IntVar(0, infinity, 'x[%i]' % j)\n",
        "   # solver.IntVar(0.0, infinity, 'x')\n",
        "print('Number of variables =', solver.NumVariables())\n",
        "\n",
        "#Create the constraints\n",
        "for i in range(num_constraints):\n",
        "  constraint_expr = \\\n",
        "[constraint_coeffs[i][j] * x[j] for j in range(num_vars)]\n",
        "  solver.Add(sum(constraint_expr) <= bounds[i])\n",
        "print('Number of constraints =', solver.NumConstraints())\n",
        "\n",
        "\n",
        "#Define objective function\n",
        "obj_expr = [obj_coeffs[j] * x[j] for j in range(num_vars)]\n",
        "\n",
        "#call the solver\n",
        "solver.Maximize(solver.Sum(obj_expr))\n",
        "\n",
        "status = solver.Solve()\n",
        "\n",
        "#Print output\n",
        "if status == pywraplp.Solver.OPTIMAL:\n",
        "    print('Objective value =', solver.Objective().Value())\n",
        "    for j in range(num_vars):\n",
        "        print(x[j], ' = ', x[j].solution_value())\n",
        "    print()\n",
        "else:\n",
        "    print('The problem does not have an optimal solution.')\n",
        "\n",
        "\n",
        " "
      ],
      "metadata": {
        "colab": {
          "base_uri": "https://localhost:8080/"
        },
        "id": "K_ClSRadJVVn",
        "outputId": "cf25709c-cf19-4615-d208-759d7dd59722"
      },
      "execution_count": 8,
      "outputs": [
        {
          "output_type": "stream",
          "name": "stdout",
          "text": [
            "Number of variables = 5\n",
            "Number of constraints = 4\n",
            "Objective value = 260.00000000000006\n",
            "x[0]  =  9.0\n",
            "x[1]  =  20.0\n",
            "x[2]  =  2.0\n",
            "x[3]  =  1.0\n",
            "x[4]  =  4.0\n",
            "\n"
          ]
        }
      ]
    },
    {
      "cell_type": "code",
      "source": [],
      "metadata": {
        "id": "GY9rZZvPKFLA"
      },
      "execution_count": null,
      "outputs": []
    }
  ]
}